{
 "cells": [
  {
   "cell_type": "markdown",
   "metadata": {},
   "source": [
    "### IMDB Web Crawling project"
   ]
  },
  {
   "cell_type": "markdown",
   "metadata": {},
   "source": [
    "This scraping project will demostrate how to utilize BeautifulSoup select function and chrome extension selector gadget to quickly scraped the data we want. \n",
    "\n",
    "We will try to scraped movie data from IMDB website. First we will need to import the neccessary packages."
   ]
  },
  {
   "cell_type": "code",
   "execution_count": 1,
   "metadata": {},
   "outputs": [],
   "source": [
    "from bs4 import BeautifulSoup \n",
    "import requests\n",
    "import csv\n",
    "import pandas as pd"
   ]
  },
  {
   "cell_type": "markdown",
   "metadata": {},
   "source": [
    "First, lets look at a IMDB movie sites. For demostration pupose, we will look at \"The Avengers\". \n",
    "\n",
    "https://www.imdb.com/title/tt0848228/?ref_=fn_tt_tt_1. "
   ]
  },
  {
   "cell_type": "markdown",
   "metadata": {},
   "source": [
    "![Screenshot](https://raw.githubusercontent.com/joeychen35/Web-Scraping/master/Screenshot%202020-06-21%2012.58.04.png)"
   ]
  },
  {
   "cell_type": "markdown",
   "metadata": {},
   "source": [
    "We can use selector gadget extension to help us find the movie title selector. We can find the \"Movie Title\" selector by clicking on the movie title when open the selector gadget extension. We can tell the selector for movie title will be 'h1'. We then assign it to movie_title_selector. \n",
    "\n",
    "Please note, using Insepct on the website and copy the selector directly from it will also work in this case. Selector gadgets extension is just a simpler way to find the seletor for beginner. \n",
    "\n",
    "Selector gadget extension download link:\n",
    "\n",
    "<https://chrome.google.com/webstore/detail/selectorgadget/mhjhnkcfbdhnjickkkdbjoemdmbfginb?>\n",
    "\n"
   ]
  },
  {
   "cell_type": "markdown",
   "metadata": {},
   "source": [
    "![Screenshot](https://raw.githubusercontent.com/joeychen35/Web-Scraping/master/Screenshot%202020-06-21%2013.01.32.png)"
   ]
  },
  {
   "cell_type": "markdown",
   "metadata": {},
   "source": [
    "For demostration purpose, I will only scraped five data for each movie. Feel free to scraped more to create a more comprehensive movie dataset."
   ]
  },
  {
   "cell_type": "code",
   "execution_count": 2,
   "metadata": {},
   "outputs": [],
   "source": [
    "# finding selectors \n",
    "movie_title_selector = 'h1'\n",
    "movie_genre_selector = '.subtext a'\n",
    "movie_cast_selector = '#titleCast .loadlate'\n",
    "movie_poster_selector = '.poster img'\n",
    "movie_rating_selector = '.ratingValue span'\n",
    "url = 'https://www.imdb.com/title/tt0848228/'\n",
    "headers = {\"Accept-Language\": \"en-US,en;q=0.5\"} # making sure the language scraped will be set in English\n",
    "response = requests.get(url, headers = headers)\n",
    "html_str = response.text\n",
    "soup = BeautifulSoup(html_str)"
   ]
  },
  {
   "cell_type": "markdown",
   "metadata": {},
   "source": [
    "Try to scraped movie data by using soup.select and the selector we found. "
   ]
  },
  {
   "cell_type": "code",
   "execution_count": 3,
   "metadata": {},
   "outputs": [
    {
     "name": "stdout",
     "output_type": "stream",
     "text": [
      "The Avengers (2012) \n",
      "['Action', 'Adventure', 'Sci-Fi']\n",
      "['Robert Downey Jr.', 'Chris Evans', 'Mark Ruffalo', 'Chris Hemsworth', 'Scarlett Johansson', 'Jeremy Renner', 'Tom Hiddleston', 'Clark Gregg', 'Cobie Smulders', 'Stellan Skarsgård', 'Samuel L. Jackson', 'Gwyneth Paltrow', 'Paul Bettany', 'Alexis Denisof', 'Tina Benko']\n",
      "https://m.media-amazon.com/images/M/MV5BNDYxNjQyMjAtNTdiOS00NGYwLWFmNTAtNThmYjU5ZGI2YTI1XkEyXkFqcGdeQXVyMTMxODk2OTU@._V1_UX182_CR0,0,182,268_AL_.jpg\n",
      "8.0\n"
     ]
    }
   ],
   "source": [
    "movie_title = soup.select(movie_title_selector)[0].text.replace('\\xa0', \" \")\n",
    "print(movie_title)\n",
    "# getting movie_genre\n",
    "movie_genre = [i.text for i in soup.select(movie_genre_selector)][:-1]\n",
    "print(movie_genre)\n",
    "# getting movie_cast\n",
    "movie_cast = [i.get('alt') for i in soup.select(movie_cast_selector)]\n",
    "print(movie_cast)\n",
    "# getting movie_poster\n",
    "movie_poster = soup.select(movie_poster_selector)[0].get('src')\n",
    "print(movie_poster)\n",
    "# getting movie_rating\n",
    "movie_rating = float(soup.select(movie_rating_selector)[0].text)\n",
    "print(movie_rating)"
   ]
  },
  {
   "cell_type": "markdown",
   "metadata": {},
   "source": [
    "Now, I am going to put all the data together in a get_movie_data function. The input will be the movie url and it will return movie data in a print format."
   ]
  },
  {
   "cell_type": "code",
   "execution_count": 4,
   "metadata": {},
   "outputs": [],
   "source": [
    "def get_movie_data(movie_url):\n",
    "    # finding selectors\n",
    "    movie_title_selector = 'h1'\n",
    "    movie_genre_selector = '.subtext a'\n",
    "    movie_cast_selector = '#titleCast .loadlate'\n",
    "    movie_poster_selector = '.poster img'\n",
    "    movie_rating_selector = '.ratingValue span'\n",
    "    #request data\n",
    "    headers = {\"Accept-Language\": \"en-US,en;q=0.5\"}\n",
    "    response = requests.get(movie_url, headers = headers)\n",
    "    html_str = response.text\n",
    "    soup = BeautifulSoup(html_str)\n",
    "    # parsing data\n",
    "    movie_title = soup.select(movie_title_selector)[0].text.replace('\\xa0', \" \")\n",
    "    movie_poster = soup.select(movie_poster_selector)[0].get('src')\n",
    "    movie_rating = float(soup.select(movie_rating_selector)[0].text)\n",
    "    movie_genre = [i.text for i in soup.select(movie_genre_selector)][:-1]\n",
    "    movie_cast = [i.get('alt') for i in soup.select(movie_cast_selector)]\n",
    "    print('Movie Title : {}'.format(movie_title))\n",
    "    print('Movie Poster link : {}'.format(movie_poster))\n",
    "    print('Rating : {}'.format(movie_rating))\n",
    "    print('Genre : {}'.format(movie_genre))\n",
    "    print('Cast : {}'.format(movie_cast))\n",
    "    "
   ]
  },
  {
   "cell_type": "markdown",
   "metadata": {},
   "source": [
    "Testing the get_movie_data function with \"Avenger: End Game\" and \"Joker\" urls."
   ]
  },
  {
   "cell_type": "code",
   "execution_count": 5,
   "metadata": {},
   "outputs": [
    {
     "name": "stdout",
     "output_type": "stream",
     "text": [
      "Movie Title : Avengers: Endgame (2019) \n",
      "Movie Poster link : https://m.media-amazon.com/images/M/MV5BMTc5MDE2ODcwNV5BMl5BanBnXkFtZTgwMzI2NzQ2NzM@._V1_UX182_CR0,0,182,268_AL_.jpg\n",
      "Rating : 8.4\n",
      "Genre : ['Action', 'Adventure', 'Drama']\n",
      "Cast : ['Robert Downey Jr.', 'Chris Evans', 'Mark Ruffalo', 'Chris Hemsworth', 'Scarlett Johansson', 'Jeremy Renner', 'Don Cheadle', 'Paul Rudd', 'Benedict Cumberbatch', 'Chadwick Boseman', 'Brie Larson', 'Tom Holland', 'Karen Gillan', 'Zoe Saldana', 'Evangeline Lilly']\n"
     ]
    }
   ],
   "source": [
    "url = 'https://www.imdb.com/title/tt4154796/'\n",
    "get_movie_data(url)"
   ]
  },
  {
   "cell_type": "code",
   "execution_count": 6,
   "metadata": {},
   "outputs": [
    {
     "name": "stdout",
     "output_type": "stream",
     "text": [
      "Movie Title : Joker (2019) \n",
      "Movie Poster link : https://m.media-amazon.com/images/M/MV5BNGVjNWI4ZGUtNzE0MS00YTJmLWE0ZDctN2ZiYTk2YmI3NTYyXkEyXkFqcGdeQXVyMTkxNjUyNQ@@._V1_UX182_CR0,0,182,268_AL_.jpg\n",
      "Rating : 8.5\n",
      "Genre : ['Crime', 'Drama', 'Thriller']\n",
      "Cast : ['Joaquin Phoenix', 'Robert De Niro', 'Zazie Beetz', 'Frances Conroy', 'Brett Cullen', 'Shea Whigham', 'Bill Camp', 'Glenn Fleshler', 'Leigh Gill', 'Josh Pais', 'Marc Maron', 'Sondra James', 'Murphy Guyer', 'Douglas Hodge']\n"
     ]
    }
   ],
   "source": [
    "url = 'https://www.imdb.com/title/tt7286456/'\n",
    "get_movie_data(url)"
   ]
  },
  {
   "cell_type": "markdown",
   "metadata": {},
   "source": [
    "We finally figured out how to scraped movie data from IMDB movie url. However, it is not intuitive and useful for user to look up the movie url and copy it. As a result, I create a function that can find the movie data by searching the movie title. \n",
    "\n",
    "In this function, first we will need to go to https://www.imdb.com/find?q=&ref_=nv_sr_sm. We can see the parameters in the url where q will be where we input the movie that we want to search for.  "
   ]
  },
  {
   "cell_type": "code",
   "execution_count": 7,
   "metadata": {},
   "outputs": [],
   "source": [
    "fields_we_are_scaping = [\"Movie Title\", \"Movie Poster Link\", \"Rating\", \"Genre\", \"Cast\"] # creating fields that we are going to scraped\n",
    "scraped_data = {keys:[] for keys in fields_we_are_scaping} # convert field to dict format\n",
    "\n",
    "def get_movie_data_using_title(movie):\n",
    "    scraped_data = {keys:[] for keys in fields_we_are_scaping} # clean up scraped data from previous search\n",
    "    movie_title_selector = 'h1'\n",
    "    movie_genre_selector = '.subtext a'\n",
    "    movie_cast_selector = '#titleCast .loadlate'\n",
    "    movie_poster_selector = '.poster img'\n",
    "    movie_rating_selector = '.ratingValue span'\n",
    "    #request finding data\n",
    "    scraped_url_list = []\n",
    "    headers = {\"Accept-Language\": \"en-US,en;q=0.5\"}\n",
    "    params = {'q': movie, 's' : 'tt', 'ttype' : 'ft', 'ref' : 'fn_ft'} # q is our search input parameters\n",
    "    response = requests.get('https://www.imdb.com/find', params = params, headers = headers)\n",
    "    html_str = response.text\n",
    "    soup = BeautifulSoup(html_str)\n",
    "    search_result = soup.select('.result_text > a')\n",
    "    for result in search_result:\n",
    "        movie_url = 'https://www.imdb.com' + result.get('href') # combining the movies url with domain url\n",
    "        scraped_url_list.append(movie_url)\n",
    "        \n",
    "    #request movie data from movie url\n",
    "    for i, movie_url in enumerate (scraped_url_list[:10], start = 1): # only run ten search result, often times search result after the tenth is not relevant to our search\n",
    "        headers = {\"Accept-Language\": \"en-US,en;q=0.5\"}\n",
    "        response_movie = requests.get(movie_url, headers = headers)\n",
    "        html_movie_str = response_movie.text\n",
    "        soup_movie = BeautifulSoup(html_movie_str)\n",
    "        # parsing data\n",
    "        movie_title = soup_movie.select(movie_title_selector)[0].text.replace('\\xa0', \" \")\n",
    "        print('Working on {}'.format(movie_url),'Movie: {}'.format(movie_title), i,'/', 10)\n",
    "        \n",
    "        try:\n",
    "            movie_poster = soup_movie.select(movie_poster_selector)[0].get('src')\n",
    "        except:\n",
    "            movie_poster = 'NA'\n",
    "        try:\n",
    "            movie_rating = float(soup_movie.select(movie_rating_selector)[0].text)\n",
    "        except:\n",
    "            movie_rating = 'NA'\n",
    "        movie_genre = [i.text for i in soup_movie.select(movie_genre_selector)][:-1]\n",
    "        movie_cast = [i.get('alt') for i in soup_movie.select(movie_cast_selector)]        \n",
    "\n",
    "        #appending all data to scraped data\n",
    "        scraped_data['Movie Title'].append(movie_title)\n",
    "        scraped_data['Movie Poster Link'].append(movie_poster)\n",
    "        scraped_data['Rating'].append(movie_rating)\n",
    "        scraped_data['Genre'].append(movie_genre)\n",
    "        scraped_data['Cast'].append(movie_cast)\n",
    "        \n",
    "\n",
    "    return pd.DataFrame(scraped_data)\n"
   ]
  },
  {
   "cell_type": "markdown",
   "metadata": {},
   "source": [
    "Testing out get_movie_data_using_title by inputing movie name in the function."
   ]
  },
  {
   "cell_type": "code",
   "execution_count": 8,
   "metadata": {},
   "outputs": [
    {
     "name": "stdout",
     "output_type": "stream",
     "text": [
      "Working on https://www.imdb.com/title/tt3748528/ Movie: Rogue One: A Star Wars Story (2016)  1 / 10\n",
      "Working on https://www.imdb.com/title/tt2527338/ Movie: Star Wars: Episode IX - The Rise of Skywalker (2019)  2 / 10\n",
      "Working on https://www.imdb.com/title/tt3778644/ Movie: Solo: A Star Wars Story (2018)  3 / 10\n",
      "Working on https://www.imdb.com/title/tt1185834/ Movie: Star Wars: The Clone Wars (2008)  4 / 10\n",
      "Working on https://www.imdb.com/title/tt2527336/ Movie: Star Wars: Episode VIII - The Last Jedi (2017)  5 / 10\n",
      "Working on https://www.imdb.com/title/tt0076759/ Movie: Star Wars: Episode IV - A New Hope (1977)  6 / 10\n",
      "Working on https://www.imdb.com/title/tt0120915/ Movie: Star Wars: Episode I - The Phantom Menace (1999)  7 / 10\n",
      "Working on https://www.imdb.com/title/tt2488496/ Movie: Star Wars: Episode VII - The Force Awakens (2015)  8 / 10\n",
      "Working on https://www.imdb.com/title/tt0080684/ Movie: Star Wars: Episode V - The Empire Strikes Back (1980)  9 / 10\n",
      "Working on https://www.imdb.com/title/tt0086190/ Movie: Star Wars: Episode VI - Return of the Jedi (1983)  10 / 10\n"
     ]
    },
    {
     "data": {
      "text/html": [
       "<div>\n",
       "<style scoped>\n",
       "    .dataframe tbody tr th:only-of-type {\n",
       "        vertical-align: middle;\n",
       "    }\n",
       "\n",
       "    .dataframe tbody tr th {\n",
       "        vertical-align: top;\n",
       "    }\n",
       "\n",
       "    .dataframe thead th {\n",
       "        text-align: right;\n",
       "    }\n",
       "</style>\n",
       "<table border=\"1\" class=\"dataframe\">\n",
       "  <thead>\n",
       "    <tr style=\"text-align: right;\">\n",
       "      <th></th>\n",
       "      <th>Movie Title</th>\n",
       "      <th>Movie Poster Link</th>\n",
       "      <th>Rating</th>\n",
       "      <th>Genre</th>\n",
       "      <th>Cast</th>\n",
       "    </tr>\n",
       "  </thead>\n",
       "  <tbody>\n",
       "    <tr>\n",
       "      <th>0</th>\n",
       "      <td>Rogue One: A Star Wars Story (2016)</td>\n",
       "      <td>https://m.media-amazon.com/images/M/MV5BMjEwMz...</td>\n",
       "      <td>7.8</td>\n",
       "      <td>[Action, Adventure, Sci-Fi]</td>\n",
       "      <td>[Felicity Jones, Diego Luna, Alan Tudyk, Donni...</td>\n",
       "    </tr>\n",
       "    <tr>\n",
       "      <th>1</th>\n",
       "      <td>Star Wars: Episode IX - The Rise of Skywalker ...</td>\n",
       "      <td>https://m.media-amazon.com/images/M/MV5BMDljNT...</td>\n",
       "      <td>6.7</td>\n",
       "      <td>[Action, Adventure, Fantasy]</td>\n",
       "      <td>[Carrie Fisher, Mark Hamill, Adam Driver, Dais...</td>\n",
       "    </tr>\n",
       "    <tr>\n",
       "      <th>2</th>\n",
       "      <td>Solo: A Star Wars Story (2018)</td>\n",
       "      <td>https://m.media-amazon.com/images/M/MV5BOTM2NT...</td>\n",
       "      <td>6.9</td>\n",
       "      <td>[Action, Adventure, Sci-Fi]</td>\n",
       "      <td>[Alden Ehrenreich, Joonas Suotamo, Woody Harre...</td>\n",
       "    </tr>\n",
       "    <tr>\n",
       "      <th>3</th>\n",
       "      <td>Star Wars: The Clone Wars (2008)</td>\n",
       "      <td>https://m.media-amazon.com/images/M/MV5BMTI1MD...</td>\n",
       "      <td>5.9</td>\n",
       "      <td>[Animation, Action, Adventure]</td>\n",
       "      <td>[Matt Lanter, Ashley Eckstein, James Arnold Ta...</td>\n",
       "    </tr>\n",
       "    <tr>\n",
       "      <th>4</th>\n",
       "      <td>Star Wars: Episode VIII - The Last Jedi (2017)</td>\n",
       "      <td>https://m.media-amazon.com/images/M/MV5BMjQ1Mz...</td>\n",
       "      <td>7.0</td>\n",
       "      <td>[Action, Adventure, Fantasy]</td>\n",
       "      <td>[Mark Hamill, Carrie Fisher, Adam Driver, Dais...</td>\n",
       "    </tr>\n",
       "    <tr>\n",
       "      <th>5</th>\n",
       "      <td>Star Wars: Episode IV - A New Hope (1977)</td>\n",
       "      <td>https://m.media-amazon.com/images/M/MV5BNzVlY2...</td>\n",
       "      <td>8.6</td>\n",
       "      <td>[Action, Adventure, Fantasy]</td>\n",
       "      <td>[Mark Hamill, Harrison Ford, Carrie Fisher, Pe...</td>\n",
       "    </tr>\n",
       "    <tr>\n",
       "      <th>6</th>\n",
       "      <td>Star Wars: Episode I - The Phantom Menace (1999)</td>\n",
       "      <td>https://m.media-amazon.com/images/M/MV5BYTRhNj...</td>\n",
       "      <td>6.5</td>\n",
       "      <td>[Action, Adventure, Fantasy]</td>\n",
       "      <td>[Liam Neeson, Ewan McGregor, Natalie Portman, ...</td>\n",
       "    </tr>\n",
       "    <tr>\n",
       "      <th>7</th>\n",
       "      <td>Star Wars: Episode VII - The Force Awakens (20...</td>\n",
       "      <td>https://m.media-amazon.com/images/M/MV5BOTAzOD...</td>\n",
       "      <td>7.9</td>\n",
       "      <td>[Action, Adventure, Sci-Fi]</td>\n",
       "      <td>[Harrison Ford, Mark Hamill, Carrie Fisher, Ad...</td>\n",
       "    </tr>\n",
       "    <tr>\n",
       "      <th>8</th>\n",
       "      <td>Star Wars: Episode V - The Empire Strikes Back...</td>\n",
       "      <td>https://m.media-amazon.com/images/M/MV5BYmU1ND...</td>\n",
       "      <td>8.7</td>\n",
       "      <td>[Action, Adventure, Fantasy]</td>\n",
       "      <td>[Mark Hamill, Harrison Ford, Carrie Fisher, Bi...</td>\n",
       "    </tr>\n",
       "    <tr>\n",
       "      <th>9</th>\n",
       "      <td>Star Wars: Episode VI - Return of the Jedi (19...</td>\n",
       "      <td>https://m.media-amazon.com/images/M/MV5BOWZlMj...</td>\n",
       "      <td>8.3</td>\n",
       "      <td>[Action, Adventure, Fantasy]</td>\n",
       "      <td>[Mark Hamill, Harrison Ford, Carrie Fisher, Bi...</td>\n",
       "    </tr>\n",
       "  </tbody>\n",
       "</table>\n",
       "</div>"
      ],
      "text/plain": [
       "                                         Movie Title  \\\n",
       "0               Rogue One: A Star Wars Story (2016)    \n",
       "1  Star Wars: Episode IX - The Rise of Skywalker ...   \n",
       "2                    Solo: A Star Wars Story (2018)    \n",
       "3                  Star Wars: The Clone Wars (2008)    \n",
       "4    Star Wars: Episode VIII - The Last Jedi (2017)    \n",
       "5         Star Wars: Episode IV - A New Hope (1977)    \n",
       "6  Star Wars: Episode I - The Phantom Menace (1999)    \n",
       "7  Star Wars: Episode VII - The Force Awakens (20...   \n",
       "8  Star Wars: Episode V - The Empire Strikes Back...   \n",
       "9  Star Wars: Episode VI - Return of the Jedi (19...   \n",
       "\n",
       "                                   Movie Poster Link  Rating  \\\n",
       "0  https://m.media-amazon.com/images/M/MV5BMjEwMz...     7.8   \n",
       "1  https://m.media-amazon.com/images/M/MV5BMDljNT...     6.7   \n",
       "2  https://m.media-amazon.com/images/M/MV5BOTM2NT...     6.9   \n",
       "3  https://m.media-amazon.com/images/M/MV5BMTI1MD...     5.9   \n",
       "4  https://m.media-amazon.com/images/M/MV5BMjQ1Mz...     7.0   \n",
       "5  https://m.media-amazon.com/images/M/MV5BNzVlY2...     8.6   \n",
       "6  https://m.media-amazon.com/images/M/MV5BYTRhNj...     6.5   \n",
       "7  https://m.media-amazon.com/images/M/MV5BOTAzOD...     7.9   \n",
       "8  https://m.media-amazon.com/images/M/MV5BYmU1ND...     8.7   \n",
       "9  https://m.media-amazon.com/images/M/MV5BOWZlMj...     8.3   \n",
       "\n",
       "                            Genre  \\\n",
       "0     [Action, Adventure, Sci-Fi]   \n",
       "1    [Action, Adventure, Fantasy]   \n",
       "2     [Action, Adventure, Sci-Fi]   \n",
       "3  [Animation, Action, Adventure]   \n",
       "4    [Action, Adventure, Fantasy]   \n",
       "5    [Action, Adventure, Fantasy]   \n",
       "6    [Action, Adventure, Fantasy]   \n",
       "7     [Action, Adventure, Sci-Fi]   \n",
       "8    [Action, Adventure, Fantasy]   \n",
       "9    [Action, Adventure, Fantasy]   \n",
       "\n",
       "                                                Cast  \n",
       "0  [Felicity Jones, Diego Luna, Alan Tudyk, Donni...  \n",
       "1  [Carrie Fisher, Mark Hamill, Adam Driver, Dais...  \n",
       "2  [Alden Ehrenreich, Joonas Suotamo, Woody Harre...  \n",
       "3  [Matt Lanter, Ashley Eckstein, James Arnold Ta...  \n",
       "4  [Mark Hamill, Carrie Fisher, Adam Driver, Dais...  \n",
       "5  [Mark Hamill, Harrison Ford, Carrie Fisher, Pe...  \n",
       "6  [Liam Neeson, Ewan McGregor, Natalie Portman, ...  \n",
       "7  [Harrison Ford, Mark Hamill, Carrie Fisher, Ad...  \n",
       "8  [Mark Hamill, Harrison Ford, Carrie Fisher, Bi...  \n",
       "9  [Mark Hamill, Harrison Ford, Carrie Fisher, Bi...  "
      ]
     },
     "execution_count": 8,
     "metadata": {},
     "output_type": "execute_result"
    }
   ],
   "source": [
    "df = get_movie_data_using_title('Stars war')\n",
    "df"
   ]
  },
  {
   "cell_type": "markdown",
   "metadata": {},
   "source": [
    "We can also export the search movie data to a csv file and sort Star Wars series by IMDB rating."
   ]
  },
  {
   "cell_type": "code",
   "execution_count": 12,
   "metadata": {
    "scrolled": true
   },
   "outputs": [
    {
     "data": {
      "text/html": [
       "<div>\n",
       "<style scoped>\n",
       "    .dataframe tbody tr th:only-of-type {\n",
       "        vertical-align: middle;\n",
       "    }\n",
       "\n",
       "    .dataframe tbody tr th {\n",
       "        vertical-align: top;\n",
       "    }\n",
       "\n",
       "    .dataframe thead th {\n",
       "        text-align: right;\n",
       "    }\n",
       "</style>\n",
       "<table border=\"1\" class=\"dataframe\">\n",
       "  <thead>\n",
       "    <tr style=\"text-align: right;\">\n",
       "      <th></th>\n",
       "      <th>Movie Title</th>\n",
       "      <th>Movie Poster Link</th>\n",
       "      <th>Rating</th>\n",
       "      <th>Genre</th>\n",
       "      <th>Cast</th>\n",
       "    </tr>\n",
       "  </thead>\n",
       "  <tbody>\n",
       "    <tr>\n",
       "      <th>10</th>\n",
       "      <td>Star Wars: Episode V - The Empire Strikes Back...</td>\n",
       "      <td>https://m.media-amazon.com/images/M/MV5BYmU1ND...</td>\n",
       "      <td>8.7</td>\n",
       "      <td>[Action, Adventure, Fantasy]</td>\n",
       "      <td>[Mark Hamill, Harrison Ford, Carrie Fisher, Bi...</td>\n",
       "    </tr>\n",
       "    <tr>\n",
       "      <th>7</th>\n",
       "      <td>Star Wars: Episode IV - A New Hope (1977)</td>\n",
       "      <td>https://m.media-amazon.com/images/M/MV5BNzVlY2...</td>\n",
       "      <td>8.6</td>\n",
       "      <td>[Action, Adventure, Fantasy]</td>\n",
       "      <td>[Mark Hamill, Harrison Ford, Carrie Fisher, Pe...</td>\n",
       "    </tr>\n",
       "    <tr>\n",
       "      <th>11</th>\n",
       "      <td>Star Wars: Episode VI - Return of the Jedi (19...</td>\n",
       "      <td>https://m.media-amazon.com/images/M/MV5BOWZlMj...</td>\n",
       "      <td>8.3</td>\n",
       "      <td>[Action, Adventure, Fantasy]</td>\n",
       "      <td>[Mark Hamill, Harrison Ford, Carrie Fisher, Bi...</td>\n",
       "    </tr>\n",
       "    <tr>\n",
       "      <th>9</th>\n",
       "      <td>Star Wars: Episode VII - The Force Awakens (20...</td>\n",
       "      <td>https://m.media-amazon.com/images/M/MV5BOTAzOD...</td>\n",
       "      <td>7.9</td>\n",
       "      <td>[Action, Adventure, Sci-Fi]</td>\n",
       "      <td>[Harrison Ford, Mark Hamill, Carrie Fisher, Ad...</td>\n",
       "    </tr>\n",
       "    <tr>\n",
       "      <th>2</th>\n",
       "      <td>Rogue One: A Star Wars Story (2016)</td>\n",
       "      <td>https://m.media-amazon.com/images/M/MV5BMjEwMz...</td>\n",
       "      <td>7.8</td>\n",
       "      <td>[Action, Adventure, Sci-Fi]</td>\n",
       "      <td>[Felicity Jones, Diego Luna, Alan Tudyk, Donni...</td>\n",
       "    </tr>\n",
       "    <tr>\n",
       "      <th>6</th>\n",
       "      <td>Star Wars: Episode VIII - The Last Jedi (2017)</td>\n",
       "      <td>https://m.media-amazon.com/images/M/MV5BMjQ1Mz...</td>\n",
       "      <td>7.0</td>\n",
       "      <td>[Action, Adventure, Fantasy]</td>\n",
       "      <td>[Mark Hamill, Carrie Fisher, Adam Driver, Dais...</td>\n",
       "    </tr>\n",
       "    <tr>\n",
       "      <th>4</th>\n",
       "      <td>Solo: A Star Wars Story (2018)</td>\n",
       "      <td>https://m.media-amazon.com/images/M/MV5BOTM2NT...</td>\n",
       "      <td>6.9</td>\n",
       "      <td>[Action, Adventure, Sci-Fi]</td>\n",
       "      <td>[Alden Ehrenreich, Joonas Suotamo, Woody Harre...</td>\n",
       "    </tr>\n",
       "    <tr>\n",
       "      <th>3</th>\n",
       "      <td>Star Wars: Episode IX - The Rise of Skywalker ...</td>\n",
       "      <td>https://m.media-amazon.com/images/M/MV5BMDljNT...</td>\n",
       "      <td>6.7</td>\n",
       "      <td>[Action, Adventure, Fantasy]</td>\n",
       "      <td>[Carrie Fisher, Mark Hamill, Adam Driver, Dais...</td>\n",
       "    </tr>\n",
       "    <tr>\n",
       "      <th>8</th>\n",
       "      <td>Star Wars: Episode I - The Phantom Menace (1999)</td>\n",
       "      <td>https://m.media-amazon.com/images/M/MV5BYTRhNj...</td>\n",
       "      <td>6.5</td>\n",
       "      <td>[Action, Adventure, Fantasy]</td>\n",
       "      <td>[Liam Neeson, Ewan McGregor, Natalie Portman, ...</td>\n",
       "    </tr>\n",
       "    <tr>\n",
       "      <th>5</th>\n",
       "      <td>Star Wars: The Clone Wars (2008)</td>\n",
       "      <td>https://m.media-amazon.com/images/M/MV5BMTI1MD...</td>\n",
       "      <td>5.9</td>\n",
       "      <td>[Animation, Action, Adventure]</td>\n",
       "      <td>[Matt Lanter, Ashley Eckstein, James Arnold Ta...</td>\n",
       "    </tr>\n",
       "  </tbody>\n",
       "</table>\n",
       "</div>"
      ],
      "text/plain": [
       "                                          Movie Title  \\\n",
       "10  Star Wars: Episode V - The Empire Strikes Back...   \n",
       "7          Star Wars: Episode IV - A New Hope (1977)    \n",
       "11  Star Wars: Episode VI - Return of the Jedi (19...   \n",
       "9   Star Wars: Episode VII - The Force Awakens (20...   \n",
       "2                Rogue One: A Star Wars Story (2016)    \n",
       "6     Star Wars: Episode VIII - The Last Jedi (2017)    \n",
       "4                     Solo: A Star Wars Story (2018)    \n",
       "3   Star Wars: Episode IX - The Rise of Skywalker ...   \n",
       "8   Star Wars: Episode I - The Phantom Menace (1999)    \n",
       "5                   Star Wars: The Clone Wars (2008)    \n",
       "\n",
       "                                    Movie Poster Link  Rating  \\\n",
       "10  https://m.media-amazon.com/images/M/MV5BYmU1ND...     8.7   \n",
       "7   https://m.media-amazon.com/images/M/MV5BNzVlY2...     8.6   \n",
       "11  https://m.media-amazon.com/images/M/MV5BOWZlMj...     8.3   \n",
       "9   https://m.media-amazon.com/images/M/MV5BOTAzOD...     7.9   \n",
       "2   https://m.media-amazon.com/images/M/MV5BMjEwMz...     7.8   \n",
       "6   https://m.media-amazon.com/images/M/MV5BMjQ1Mz...     7.0   \n",
       "4   https://m.media-amazon.com/images/M/MV5BOTM2NT...     6.9   \n",
       "3   https://m.media-amazon.com/images/M/MV5BMDljNT...     6.7   \n",
       "8   https://m.media-amazon.com/images/M/MV5BYTRhNj...     6.5   \n",
       "5   https://m.media-amazon.com/images/M/MV5BMTI1MD...     5.9   \n",
       "\n",
       "                             Genre  \\\n",
       "10    [Action, Adventure, Fantasy]   \n",
       "7     [Action, Adventure, Fantasy]   \n",
       "11    [Action, Adventure, Fantasy]   \n",
       "9      [Action, Adventure, Sci-Fi]   \n",
       "2      [Action, Adventure, Sci-Fi]   \n",
       "6     [Action, Adventure, Fantasy]   \n",
       "4      [Action, Adventure, Sci-Fi]   \n",
       "3     [Action, Adventure, Fantasy]   \n",
       "8     [Action, Adventure, Fantasy]   \n",
       "5   [Animation, Action, Adventure]   \n",
       "\n",
       "                                                 Cast  \n",
       "10  [Mark Hamill, Harrison Ford, Carrie Fisher, Bi...  \n",
       "7   [Mark Hamill, Harrison Ford, Carrie Fisher, Pe...  \n",
       "11  [Mark Hamill, Harrison Ford, Carrie Fisher, Bi...  \n",
       "9   [Harrison Ford, Mark Hamill, Carrie Fisher, Ad...  \n",
       "2   [Felicity Jones, Diego Luna, Alan Tudyk, Donni...  \n",
       "6   [Mark Hamill, Carrie Fisher, Adam Driver, Dais...  \n",
       "4   [Alden Ehrenreich, Joonas Suotamo, Woody Harre...  \n",
       "3   [Carrie Fisher, Mark Hamill, Adam Driver, Dais...  \n",
       "8   [Liam Neeson, Ewan McGregor, Natalie Portman, ...  \n",
       "5   [Matt Lanter, Ashley Eckstein, James Arnold Ta...  "
      ]
     },
     "execution_count": 12,
     "metadata": {},
     "output_type": "execute_result"
    }
   ],
   "source": [
    "df.to_csv('Movie_data.csv') #export stats to a csv file\n",
    "df.index += 1 #setting index starting from 1 \n",
    "df_rank = df.sort_values('Rating', ascending = False)\n",
    "df_rank"
   ]
  },
  {
   "cell_type": "markdown",
   "metadata": {},
   "source": [
    "Lets create a bar chart to better visualize the dataset. By looking at the bar chart we can tell earlier version of Star Wars tend to have better IMDB rating."
   ]
  },
  {
   "cell_type": "code",
   "execution_count": 11,
   "metadata": {},
   "outputs": [
    {
     "data": {
      "image/png": "[encoded data removed]",
      "text/plain": [
       "<Figure size 432x288 with 1 Axes>"
      ]
     },
     "metadata": {},
     "output_type": "display_data"
    }
   ],
   "source": [
    "import matplotlib.pyplot as plt\n",
    "plt.style.use('ggplot')\n",
    "\n",
    "df_rank.plot.bar(x = 'Movie Title', y = 'Rating', color = '#F5C518') # IMDB logo color\n",
    "plt.xticks(rotation = 85)\n",
    "plt.xlabel('Movie Title')\n",
    "plt.ylabel('Rating')\n",
    "plt.show()"
   ]
  },
  {
   "cell_type": "code",
   "execution_count": null,
   "metadata": {},
   "outputs": [],
   "source": []
  }
 ],
 "metadata": {
  "kernelspec": {
   "display_name": "Python 3",
   "language": "python",
   "name": "python3"
  },
  "language_info": {
   "codemirror_mode": {
    "name": "ipython",
    "version": 3
   },
   "file_extension": ".py",
   "mimetype": "text/x-python",
   "name": "python",
   "nbconvert_exporter": "python",
   "pygments_lexer": "ipython3",
   "version": "3.7.3"
  }
 },
 "nbformat": 4,
 "nbformat_minor": 2
}
